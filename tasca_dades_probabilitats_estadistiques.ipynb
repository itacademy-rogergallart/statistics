{
  "nbformat": 4,
  "nbformat_minor": 0,
  "metadata": {
    "colab": {
      "name": "tasca_dades_probabilitats_estadistiques.ipynb",
      "provenance": [],
      "authorship_tag": "ABX9TyP8x+6vDg738Eq2/Bxlt9aG"
    },
    "kernelspec": {
      "name": "python3",
      "display_name": "Python 3"
    },
    "language_info": {
      "name": "python"
    }
  },
  "cells": [
    {
      "cell_type": "markdown",
      "metadata": {
        "id": "8EjOoQNi5_Jr"
      },
      "source": [
        "# Tasca dades, probabilitats i estadístiques"
      ]
    },
    {
      "cell_type": "markdown",
      "metadata": {
        "id": "7B-LmufX5_HE"
      },
      "source": [
        "## Exercici 1\n",
        "Agafa un conjunt de dades de tema esportiu que t'agradi i selecciona un atribut del conjunt de dades. Calcula la moda, la mediana, la desviació estàndard i la mitjana aritmètica. "
      ]
    },
    {
      "cell_type": "code",
      "metadata": {
        "id": "5Mzkwz-66Ukf"
      },
      "source": [
        "import pandas as pd\n",
        "import numpy as np\n",
        "import matplotlib.pyplot as plt\n",
        "import seaborn as sns\n",
        "%matplotlib inline"
      ],
      "execution_count": 1,
      "outputs": []
    },
    {
      "cell_type": "code",
      "metadata": {
        "colab": {
          "base_uri": "https://localhost:8080/",
          "height": 204
        },
        "id": "cYZ00PdLFnze",
        "outputId": "c08454ed-127a-4d0e-fba6-f18f4570fda6"
      },
      "source": [
        "df = pd.read_csv('https://raw.githubusercontent.com/itacademy-rogergallart/sampling/main/laliga1995-2000.csv',\n",
        "                 dtype={'HTHG':'Int64','HTAG':'Int64'}, index_col=0)\n",
        "df.head()"
      ],
      "execution_count": 2,
      "outputs": [
        {
          "output_type": "execute_result",
          "data": {
            "text/html": [
              "<div>\n",
              "<style scoped>\n",
              "    .dataframe tbody tr th:only-of-type {\n",
              "        vertical-align: middle;\n",
              "    }\n",
              "\n",
              "    .dataframe tbody tr th {\n",
              "        vertical-align: top;\n",
              "    }\n",
              "\n",
              "    .dataframe thead th {\n",
              "        text-align: right;\n",
              "    }\n",
              "</style>\n",
              "<table border=\"1\" class=\"dataframe\">\n",
              "  <thead>\n",
              "    <tr style=\"text-align: right;\">\n",
              "      <th></th>\n",
              "      <th>Season</th>\n",
              "      <th>Date</th>\n",
              "      <th>HomeTeam</th>\n",
              "      <th>AwayTeam</th>\n",
              "      <th>FTHG</th>\n",
              "      <th>FTAG</th>\n",
              "      <th>FTR</th>\n",
              "      <th>HTHG</th>\n",
              "      <th>HTAG</th>\n",
              "      <th>HTR</th>\n",
              "      <th>Top5Budget</th>\n",
              "    </tr>\n",
              "  </thead>\n",
              "  <tbody>\n",
              "    <tr>\n",
              "      <th>0</th>\n",
              "      <td>1995-96</td>\n",
              "      <td>2/9/1995</td>\n",
              "      <td>La Coruna</td>\n",
              "      <td>Valencia</td>\n",
              "      <td>3</td>\n",
              "      <td>0</td>\n",
              "      <td>H</td>\n",
              "      <td>2</td>\n",
              "      <td>0</td>\n",
              "      <td>H</td>\n",
              "      <td>False</td>\n",
              "    </tr>\n",
              "    <tr>\n",
              "      <th>1</th>\n",
              "      <td>1995-96</td>\n",
              "      <td>2/9/1995</td>\n",
              "      <td>Sp Gijon</td>\n",
              "      <td>Albacete</td>\n",
              "      <td>3</td>\n",
              "      <td>0</td>\n",
              "      <td>H</td>\n",
              "      <td>3</td>\n",
              "      <td>0</td>\n",
              "      <td>H</td>\n",
              "      <td>False</td>\n",
              "    </tr>\n",
              "    <tr>\n",
              "      <th>2</th>\n",
              "      <td>1995-96</td>\n",
              "      <td>3/9/1995</td>\n",
              "      <td>Ath Bilbao</td>\n",
              "      <td>Santander</td>\n",
              "      <td>4</td>\n",
              "      <td>0</td>\n",
              "      <td>H</td>\n",
              "      <td>2</td>\n",
              "      <td>0</td>\n",
              "      <td>H</td>\n",
              "      <td>False</td>\n",
              "    </tr>\n",
              "    <tr>\n",
              "      <th>3</th>\n",
              "      <td>1995-96</td>\n",
              "      <td>3/9/1995</td>\n",
              "      <td>Ath Madrid</td>\n",
              "      <td>Sociedad</td>\n",
              "      <td>4</td>\n",
              "      <td>1</td>\n",
              "      <td>H</td>\n",
              "      <td>1</td>\n",
              "      <td>1</td>\n",
              "      <td>D</td>\n",
              "      <td>True</td>\n",
              "    </tr>\n",
              "    <tr>\n",
              "      <th>4</th>\n",
              "      <td>1995-96</td>\n",
              "      <td>3/9/1995</td>\n",
              "      <td>Celta</td>\n",
              "      <td>Compostela</td>\n",
              "      <td>0</td>\n",
              "      <td>1</td>\n",
              "      <td>A</td>\n",
              "      <td>0</td>\n",
              "      <td>0</td>\n",
              "      <td>D</td>\n",
              "      <td>False</td>\n",
              "    </tr>\n",
              "  </tbody>\n",
              "</table>\n",
              "</div>"
            ],
            "text/plain": [
              "    Season      Date    HomeTeam    AwayTeam  ...  HTHG  HTAG HTR  Top5Budget\n",
              "0  1995-96  2/9/1995   La Coruna    Valencia  ...     2     0   H       False\n",
              "1  1995-96  2/9/1995    Sp Gijon    Albacete  ...     3     0   H       False\n",
              "2  1995-96  3/9/1995  Ath Bilbao   Santander  ...     2     0   H       False\n",
              "3  1995-96  3/9/1995  Ath Madrid    Sociedad  ...     1     1   D        True\n",
              "4  1995-96  3/9/1995       Celta  Compostela  ...     0     0   D       False\n",
              "\n",
              "[5 rows x 11 columns]"
            ]
          },
          "metadata": {
            "tags": []
          },
          "execution_count": 2
        }
      ]
    },
    {
      "cell_type": "code",
      "metadata": {
        "colab": {
          "base_uri": "https://localhost:8080/",
          "height": 204
        },
        "id": "a9kmbWwUGNa0",
        "outputId": "0eb5db4e-f3f2-43fb-d47d-55286233b47a"
      },
      "source": [
        "# Creem 3 noves columnes:\n",
        "# Goals_1H:  Goals first half (nombre total de gols marcats a la primera part pels dos equips)\n",
        "# Goals_2H:  Goals second half (nombre total de gols marcats a la segons part pels dos equips)\n",
        "# Goals: Total goals in the game (nombre de gols totals del partit fets pels dos equips)\n",
        "\n",
        "df['Goals_1H'] = df.HTHG + df.HTAG\n",
        "df['Goals'] = df.FTHG + df.FTAG\n",
        "df['Goals_2H'] = df.Goals - df.Goals_1H\n",
        "\n",
        "df = df[['Season', 'Date', 'HomeTeam', 'AwayTeam', 'FTHG', 'FTAG', 'FTR', \n",
        "         'HTHG','HTAG', 'HTR', 'Top5Budget', 'Goals','Goals_1H', 'Goals_2H']]\n",
        "\n",
        "df.dropna(axis=0, how='any', inplace=True)\n",
        "df.to_csv('laliga1995-2000_v2.csv')\n",
        "\n",
        "df.sample(5)"
      ],
      "execution_count": 3,
      "outputs": [
        {
          "output_type": "execute_result",
          "data": {
            "text/html": [
              "<div>\n",
              "<style scoped>\n",
              "    .dataframe tbody tr th:only-of-type {\n",
              "        vertical-align: middle;\n",
              "    }\n",
              "\n",
              "    .dataframe tbody tr th {\n",
              "        vertical-align: top;\n",
              "    }\n",
              "\n",
              "    .dataframe thead th {\n",
              "        text-align: right;\n",
              "    }\n",
              "</style>\n",
              "<table border=\"1\" class=\"dataframe\">\n",
              "  <thead>\n",
              "    <tr style=\"text-align: right;\">\n",
              "      <th></th>\n",
              "      <th>Season</th>\n",
              "      <th>Date</th>\n",
              "      <th>HomeTeam</th>\n",
              "      <th>AwayTeam</th>\n",
              "      <th>FTHG</th>\n",
              "      <th>FTAG</th>\n",
              "      <th>FTR</th>\n",
              "      <th>HTHG</th>\n",
              "      <th>HTAG</th>\n",
              "      <th>HTR</th>\n",
              "      <th>Top5Budget</th>\n",
              "      <th>Goals</th>\n",
              "      <th>Goals_1H</th>\n",
              "      <th>Goals_2H</th>\n",
              "    </tr>\n",
              "  </thead>\n",
              "  <tbody>\n",
              "    <tr>\n",
              "      <th>2540</th>\n",
              "      <td>2001-02</td>\n",
              "      <td>28/10/01</td>\n",
              "      <td>Ath Bilbao</td>\n",
              "      <td>Espanol</td>\n",
              "      <td>1</td>\n",
              "      <td>1</td>\n",
              "      <td>D</td>\n",
              "      <td>1</td>\n",
              "      <td>0</td>\n",
              "      <td>H</td>\n",
              "      <td>False</td>\n",
              "      <td>2</td>\n",
              "      <td>1</td>\n",
              "      <td>1</td>\n",
              "    </tr>\n",
              "    <tr>\n",
              "      <th>7492</th>\n",
              "      <td>2014-15</td>\n",
              "      <td>9/11/2014</td>\n",
              "      <td>Sociedad</td>\n",
              "      <td>Ath Madrid</td>\n",
              "      <td>2</td>\n",
              "      <td>1</td>\n",
              "      <td>H</td>\n",
              "      <td>1</td>\n",
              "      <td>1</td>\n",
              "      <td>D</td>\n",
              "      <td>False</td>\n",
              "      <td>3</td>\n",
              "      <td>2</td>\n",
              "      <td>1</td>\n",
              "    </tr>\n",
              "    <tr>\n",
              "      <th>8021</th>\n",
              "      <td>2015-16</td>\n",
              "      <td>28/02/16</td>\n",
              "      <td>La Coruna</td>\n",
              "      <td>Granada</td>\n",
              "      <td>0</td>\n",
              "      <td>1</td>\n",
              "      <td>A</td>\n",
              "      <td>0</td>\n",
              "      <td>1</td>\n",
              "      <td>A</td>\n",
              "      <td>False</td>\n",
              "      <td>1</td>\n",
              "      <td>1</td>\n",
              "      <td>0</td>\n",
              "    </tr>\n",
              "    <tr>\n",
              "      <th>9237</th>\n",
              "      <td>2018-19</td>\n",
              "      <td>24/04/2019</td>\n",
              "      <td>Ath Madrid</td>\n",
              "      <td>Valencia</td>\n",
              "      <td>3</td>\n",
              "      <td>2</td>\n",
              "      <td>H</td>\n",
              "      <td>1</td>\n",
              "      <td>1</td>\n",
              "      <td>D</td>\n",
              "      <td>True</td>\n",
              "      <td>5</td>\n",
              "      <td>2</td>\n",
              "      <td>3</td>\n",
              "    </tr>\n",
              "    <tr>\n",
              "      <th>5787</th>\n",
              "      <td>2009-10</td>\n",
              "      <td>10/4/2010</td>\n",
              "      <td>Villarreal</td>\n",
              "      <td>Sp Gijon</td>\n",
              "      <td>1</td>\n",
              "      <td>0</td>\n",
              "      <td>H</td>\n",
              "      <td>1</td>\n",
              "      <td>0</td>\n",
              "      <td>H</td>\n",
              "      <td>False</td>\n",
              "      <td>1</td>\n",
              "      <td>1</td>\n",
              "      <td>0</td>\n",
              "    </tr>\n",
              "  </tbody>\n",
              "</table>\n",
              "</div>"
            ],
            "text/plain": [
              "       Season        Date    HomeTeam  ... Goals  Goals_1H  Goals_2H\n",
              "2540  2001-02    28/10/01  Ath Bilbao  ...     2         1         1\n",
              "7492  2014-15   9/11/2014    Sociedad  ...     3         2         1\n",
              "8021  2015-16    28/02/16   La Coruna  ...     1         1         0\n",
              "9237  2018-19  24/04/2019  Ath Madrid  ...     5         2         3\n",
              "5787  2009-10   10/4/2010  Villarreal  ...     1         1         0\n",
              "\n",
              "[5 rows x 14 columns]"
            ]
          },
          "metadata": {
            "tags": []
          },
          "execution_count": 3
        }
      ]
    },
    {
      "cell_type": "code",
      "metadata": {
        "colab": {
          "base_uri": "https://localhost:8080/"
        },
        "id": "zfTZuwieIKBC",
        "outputId": "b622c1fb-6fb0-47f7-f002-19bf424a2047"
      },
      "source": [
        "# Seleccionem la columna de gols totals de cada partit (Goals)\n",
        "\n",
        "from statistics import mode, median, stdev, mean\n",
        "\n",
        "print(f'La moda de la variable Goals és: {mode(df.Goals)}')\n",
        "print(f'La mediana de la variable Goals és: {median(df.Goals):.2f}')\n",
        "print(f'La desviació estàndard de la variable Goals és: {stdev(df.Goals):.2f}')\n",
        "print(f'La mitjana aritmètica de la variable Goals és: {mean(df.Goals):.2f}')\n"
      ],
      "execution_count": 4,
      "outputs": [
        {
          "output_type": "stream",
          "text": [
            "La moda de la variable Goals és: 2\n",
            "La mediana de la variable Goals és: 3.00\n",
            "La desviació estàndard de la variable Goals és: 1.69\n",
            "La mitjana aritmètica de la variable Goals és: 2.69\n"
          ],
          "name": "stdout"
        }
      ]
    },
    {
      "cell_type": "markdown",
      "metadata": {
        "id": "_cnlzxBe5_E8"
      },
      "source": [
        "## Exercici 2\n",
        "Continuant amb les dades de tema esportiu, selecciona dos atributs i calcula'n la seva correlació. "
      ]
    },
    {
      "cell_type": "code",
      "metadata": {
        "id": "oklun-pd6VFk",
        "colab": {
          "base_uri": "https://localhost:8080/"
        },
        "outputId": "c41e397d-6e87-4499-e11f-76b33dea7656"
      },
      "source": [
        "# Calculem el coefficient de correlació (Person) entre el nombre de gols marcats durant la\n",
        "# primera part del partit (Goals_1H) i els marcats durant la segona part (Goals_2H)\n",
        "from scipy.stats import pearsonr\n",
        "\n",
        "corr, _ = pearsonr(df.Goals_1H, df.Goals_2H)\n",
        "print(f'El coefficient de correlació entre el nombre de gols marcats',\n",
        "      f'a la primera part d\\'un partir (Goals_1H) i el nombre de gols marcats',\n",
        "      f'a la segona part és: {corr:.4f}')"
      ],
      "execution_count": 9,
      "outputs": [
        {
          "output_type": "stream",
          "text": [
            "El coefficient de correlació entre el nombre de gols marcats a la primera part d'un partir (Goals_1H) i el nombre de gols marcats a la segona part és: 0.0694\n"
          ],
          "name": "stdout"
        }
      ]
    },
    {
      "cell_type": "markdown",
      "metadata": {
        "id": "OfeWMbtx5_CO"
      },
      "source": [
        "## Exercici 3\n",
        "Continuant amb les dades de tema esportiu, calcula la correlació de tots els atributs entre sí i representa'ls en una matriu amb diferents colors d'intensitat."
      ]
    },
    {
      "cell_type": "code",
      "metadata": {
        "id": "PB87JRt86V5g",
        "colab": {
          "base_uri": "https://localhost:8080/",
          "height": 500
        },
        "outputId": "36338664-6056-4e50-a3ef-507c05f427af"
      },
      "source": [
        "# Correlació entre tots els atributs (numèrics)\n",
        "corr = df.corr()\n",
        "\n",
        "plt.figure(figsize=(15,8))\n",
        "sns.heatmap(corr, annot=True, cmap=\"Blues\", )\n",
        "\n",
        "plt.title('Correlation between all the numeric attributes of the DataFrame df');"
      ],
      "execution_count": 11,
      "outputs": [
        {
          "output_type": "display_data",
          "data": {
            "image/png": "[encoded data removed]",
            "text/plain": [
              "<Figure size 1080x576 with 2 Axes>"
            ]
          },
          "metadata": {
            "tags": [],
            "needs_background": "light"
          }
        }
      ]
    },
    {
      "cell_type": "markdown",
      "metadata": {
        "id": "jgPAEO-R5-_o"
      },
      "source": [
        "# Exercici 4\n",
        "Continuant amb les dades de tema esportiu, selecciona un atribut i calcula la mitjana geomètrica i la mitjana harmònica."
      ]
    },
    {
      "cell_type": "markdown",
      "metadata": {
        "id": "Di5cTPR2XTUW"
      },
      "source": [
        "La mitjana geomètrica i la mitjana harmònica no són mètriques adecuades si hi ha valors nuls (o negatius). L'atribut nombre de gols de cada partit conté bastants zeros, ja que hi ha molts partits on algun dels dos equips (o tots dos) no marca cap gol (resultat: 0-0).\n",
        "\n",
        "Per fer aquest exercici, creem una nova variable que és el nombre total de gols marcats per cada equip a cada temporada. Aquest atribut no conté cap valor nul (no hi ha cap equip de primera divisió que acabi la temporada sense haver marcat al menys un gol)."
      ]
    },
    {
      "cell_type": "code",
      "metadata": {
        "colab": {
          "base_uri": "https://localhost:8080/",
          "height": 204
        },
        "id": "McRw1rvhNQBw",
        "outputId": "987c5734-9719-4e64-e23c-1b0f30a5e587"
      },
      "source": [
        "# Creem un nou dataframe dfGoalsBySeason\n",
        "foo1 = df[['Season','Date','HomeTeam','FTHG']].copy()\n",
        "foo1.rename(columns={'HomeTeam':'Team', 'FTHG':'Goals'}, inplace=True)\n",
        "\n",
        "foo2 = df[['Season','Date','AwayTeam','FTAG']].copy()\n",
        "foo2.rename(columns={'AwayTeam':'Team', 'FTAG':'Goals'}, inplace=True)\n",
        "\n",
        "dfGoalsBySeason = pd.concat([foo1,foo2]).groupby(['Season','Team']).sum().reset_index()\n",
        "dfGoalsBySeason.head()"
      ],
      "execution_count": 12,
      "outputs": [
        {
          "output_type": "execute_result",
          "data": {
            "text/html": [
              "<div>\n",
              "<style scoped>\n",
              "    .dataframe tbody tr th:only-of-type {\n",
              "        vertical-align: middle;\n",
              "    }\n",
              "\n",
              "    .dataframe tbody tr th {\n",
              "        vertical-align: top;\n",
              "    }\n",
              "\n",
              "    .dataframe thead th {\n",
              "        text-align: right;\n",
              "    }\n",
              "</style>\n",
              "<table border=\"1\" class=\"dataframe\">\n",
              "  <thead>\n",
              "    <tr style=\"text-align: right;\">\n",
              "      <th></th>\n",
              "      <th>Season</th>\n",
              "      <th>Team</th>\n",
              "      <th>Goals</th>\n",
              "    </tr>\n",
              "  </thead>\n",
              "  <tbody>\n",
              "    <tr>\n",
              "      <th>0</th>\n",
              "      <td>1995-96</td>\n",
              "      <td>Albacete</td>\n",
              "      <td>55</td>\n",
              "    </tr>\n",
              "    <tr>\n",
              "      <th>1</th>\n",
              "      <td>1995-96</td>\n",
              "      <td>Ath Bilbao</td>\n",
              "      <td>43</td>\n",
              "    </tr>\n",
              "    <tr>\n",
              "      <th>2</th>\n",
              "      <td>1995-96</td>\n",
              "      <td>Ath Madrid</td>\n",
              "      <td>75</td>\n",
              "    </tr>\n",
              "    <tr>\n",
              "      <th>3</th>\n",
              "      <td>1995-96</td>\n",
              "      <td>Barcelona</td>\n",
              "      <td>72</td>\n",
              "    </tr>\n",
              "    <tr>\n",
              "      <th>4</th>\n",
              "      <td>1995-96</td>\n",
              "      <td>Betis</td>\n",
              "      <td>61</td>\n",
              "    </tr>\n",
              "  </tbody>\n",
              "</table>\n",
              "</div>"
            ],
            "text/plain": [
              "    Season        Team  Goals\n",
              "0  1995-96    Albacete     55\n",
              "1  1995-96  Ath Bilbao     43\n",
              "2  1995-96  Ath Madrid     75\n",
              "3  1995-96   Barcelona     72\n",
              "4  1995-96       Betis     61"
            ]
          },
          "metadata": {
            "tags": []
          },
          "execution_count": 12
        }
      ]
    },
    {
      "cell_type": "code",
      "metadata": {
        "colab": {
          "base_uri": "https://localhost:8080/"
        },
        "id": "VGERhQ9RYPrI",
        "outputId": "9aafb75f-f7be-43e2-886d-a9ea654d5de6"
      },
      "source": [
        "# Comprovem que l'atribut Goals de dfGoalsBySeason no té cap valor nul\n",
        "print(f'Nombre d\\'equips que no han marcat cap gol durant una temporada: {dfGoalsBySeason[dfGoalsBySeason.Goals==0].Goals.count()}')"
      ],
      "execution_count": 14,
      "outputs": [
        {
          "output_type": "stream",
          "text": [
            "Nombre d'equips que no han marcat cap gol durant una temporada: 0\n"
          ],
          "name": "stdout"
        }
      ]
    },
    {
      "cell_type": "code",
      "metadata": {
        "id": "DZp6xIIT6Wi2",
        "colab": {
          "base_uri": "https://localhost:8080/"
        },
        "outputId": "e8161985-4b1a-48ee-8159-f941f3a714e0"
      },
      "source": [
        "# Calcul de la mitja geomètrica i harmònica dels gols per temporada\n",
        "from scipy.stats import gmean, hmean\n",
        "\n",
        "print(f'DataFrame: dfGoalsBySeason\\nAtribut Goals: Nombre de gols fets per un equip durant tota la temporada\\n')\n",
        "print(f'La mitjana geomètrica de la variable Goals és: {gmean(dfGoalsBySeason.Goals):.3f}')\n",
        "print(f'La mitjana harmònica de la variable Goals és: {hmean(dfGoalsBySeason.Goals):.3f}')\n"
      ],
      "execution_count": 15,
      "outputs": [
        {
          "output_type": "stream",
          "text": [
            "DataFrame: dfGoalsBySeason\n",
            "Atribut Goals: Nombre de gols fets per un equip durant tota la temporada\n",
            "\n",
            "La mitjana geomètrica de la variable Goals és: 49.322\n",
            "La mitjana harmònica de la variable Goals és: 47.430\n"
          ],
          "name": "stdout"
        }
      ]
    }
  ]
}